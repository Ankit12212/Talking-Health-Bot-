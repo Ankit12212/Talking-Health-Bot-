{
 "cells": [
  {
   "cell_type": "code",
   "execution_count": 19,
   "id": "bc9c11f6",
   "metadata": {},
   "outputs": [
    {
     "name": "stdout",
     "output_type": "stream",
     "text": [
      "Sorry, I did not get that\n"
     ]
    }
   ],
   "source": [
    "import speech_recognition as sr\n",
    "import pyttsx3\n",
    "\n",
    "\n",
    "# Initialize recognizer class (for recognizing the speech)\n",
    "r = sr.Recognizer()\n",
    "def say(text):\n",
    "    # Re-init each time in notebooks to avoid “silent after first run”\n",
    "    engine = pyttsx3.init('sapi5')   # explicit driver on Windows\n",
    "    engine.setProperty('rate', 175)\n",
    "    engine.setProperty('volume', 1.0)\n",
    "    engine.say(text)\n",
    "    engine.runAndWait()\n",
    "    engine.stop()  # ensure driver releases\n",
    "    del engine\n",
    "\n",
    "# Reading Microphone as source\n",
    "# listening the speech and store in audio_text variable\n",
    "with sr.Microphone() as source:\n",
    "    say(\"Talk\")\n",
    "    audio_text = r.listen(source, timeout=3, phrase_time_limit=10)\n",
    "    say(\"Time over, thanks\")\n",
    "    # recoginze_() method will throw a request\n",
    "    # error if the API is unreachable,\n",
    "    # hence using exception handling\n",
    "    \n",
    "    try:\n",
    "        # using google speech recognition\n",
    "        print(\"Text: \"+r.recognize_google(audio_text))\n",
    "        say(\"Text: \"+r.recognize_google(audio_text))\n",
    "    except:\n",
    "        print(\"Sorry, I did not get that\")\n",
    "        say(\"Sorry, I did not get that\")"
   ]
  },
  {
   "cell_type": "code",
   "execution_count": null,
   "id": "8b055a65",
   "metadata": {},
   "outputs": [],
   "source": []
  }
 ],
 "metadata": {
  "kernelspec": {
   "display_name": "tf_notebook",
   "language": "python",
   "name": "python3"
  },
  "language_info": {
   "codemirror_mode": {
    "name": "ipython",
    "version": 3
   },
   "file_extension": ".py",
   "mimetype": "text/x-python",
   "name": "python",
   "nbconvert_exporter": "python",
   "pygments_lexer": "ipython3",
   "version": "3.10.18"
  }
 },
 "nbformat": 4,
 "nbformat_minor": 5
}
