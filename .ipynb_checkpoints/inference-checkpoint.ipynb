{
 "cells": [
  {
   "cell_type": "code",
   "execution_count": 7,
   "id": "5aa6e81f-8628-437a-bdbd-797e913848cc",
   "metadata": {},
   "outputs": [],
   "source": [
    "import json \n",
    "import numpy as np\n",
    "import joblib\n",
    "from tensorflow.keras.models import load_model\n",
    "import random \n",
    "import pandas as pd\n",
    "from text_utils import tokenize_and_lemma"
   ]
  },
  {
   "cell_type": "code",
   "execution_count": 10,
   "id": "1a912b2a-4422-4e47-9cd5-e38debd4d1b8",
   "metadata": {},
   "outputs": [],
   "source": [
    "model = load_model(\"chatbot_model.keras\")\n",
    "vectorizer = joblib.load(\"vectorizer.joblib\")\n",
    "le = joblib.load(\"label_encoder.joblib\")\n",
    "intents = json.loads(open(\"intents.json\").read())\n",
    "df = pd.DataFrame(intents['intents'])"
   ]
  },
  {
   "cell_type": "code",
   "execution_count": 11,
   "id": "584c56da-a372-475d-8b3e-7324725bcf05",
   "metadata": {},
   "outputs": [
    {
     "data": {
      "text/html": [
       "<div>\n",
       "<style scoped>\n",
       "    .dataframe tbody tr th:only-of-type {\n",
       "        vertical-align: middle;\n",
       "    }\n",
       "\n",
       "    .dataframe tbody tr th {\n",
       "        vertical-align: top;\n",
       "    }\n",
       "\n",
       "    .dataframe thead th {\n",
       "        text-align: right;\n",
       "    }\n",
       "</style>\n",
       "<table border=\"1\" class=\"dataframe\">\n",
       "  <thead>\n",
       "    <tr style=\"text-align: right;\">\n",
       "      <th></th>\n",
       "      <th>tag</th>\n",
       "      <th>patterns</th>\n",
       "      <th>responses</th>\n",
       "    </tr>\n",
       "  </thead>\n",
       "  <tbody>\n",
       "    <tr>\n",
       "      <th>0</th>\n",
       "      <td>greetings</td>\n",
       "      <td>[Hello, Hey, Hi, Good Day, Greetings]</td>\n",
       "      <td>[Hello!, Hey, What Can I do for you?]</td>\n",
       "    </tr>\n",
       "    <tr>\n",
       "      <th>1</th>\n",
       "      <td>Acne</td>\n",
       "      <td>[blackheads, pimples, face pimples, neck pimpl...</td>\n",
       "      <td>[According to your symptoms you might have Acn...</td>\n",
       "    </tr>\n",
       "    <tr>\n",
       "      <th>2</th>\n",
       "      <td>Attention Deficit Disorder (ADHD)</td>\n",
       "      <td>[impulsivity, hyperactivity, lack of focus, me...</td>\n",
       "      <td>[According to your symptoms you might have Att...</td>\n",
       "    </tr>\n",
       "    <tr>\n",
       "      <th>3</th>\n",
       "      <td>Allergies</td>\n",
       "      <td>[sneezing, itchy eyes, coughing, watery eyes, ...</td>\n",
       "      <td>[According to your symptoms you might have All...</td>\n",
       "    </tr>\n",
       "    <tr>\n",
       "      <th>4</th>\n",
       "      <td>Alzheimers</td>\n",
       "      <td>[forgetful, confusion with time, poor judgement]</td>\n",
       "      <td>[According to your symptoms you might have Alz...</td>\n",
       "    </tr>\n",
       "  </tbody>\n",
       "</table>\n",
       "</div>"
      ],
      "text/plain": [
       "                                 tag  \\\n",
       "0                          greetings   \n",
       "1                               Acne   \n",
       "2  Attention Deficit Disorder (ADHD)   \n",
       "3                          Allergies   \n",
       "4                         Alzheimers   \n",
       "\n",
       "                                            patterns  \\\n",
       "0              [Hello, Hey, Hi, Good Day, Greetings]   \n",
       "1  [blackheads, pimples, face pimples, neck pimpl...   \n",
       "2  [impulsivity, hyperactivity, lack of focus, me...   \n",
       "3  [sneezing, itchy eyes, coughing, watery eyes, ...   \n",
       "4   [forgetful, confusion with time, poor judgement]   \n",
       "\n",
       "                                           responses  \n",
       "0              [Hello!, Hey, What Can I do for you?]  \n",
       "1  [According to your symptoms you might have Acn...  \n",
       "2  [According to your symptoms you might have Att...  \n",
       "3  [According to your symptoms you might have All...  \n",
       "4  [According to your symptoms you might have Alz...  "
      ]
     },
     "execution_count": 11,
     "metadata": {},
     "output_type": "execute_result"
    }
   ],
   "source": [
    "df.head()"
   ]
  },
  {
   "cell_type": "code",
   "execution_count": 24,
   "id": "703355ef-49eb-4dda-a9e8-1ba61b03ab53",
   "metadata": {},
   "outputs": [],
   "source": [
    "def predict_class(text, error_threshold=0.25, top_k=3):\n",
    "    X = vectorizer.transform([text]).toarray()\n",
    "    probs = model.predict(X, verbose=0)[0]\n",
    "\n",
    "    idx_probs = [(i, p) for i, p in enumerate(probs) if p >= error_threshold]\n",
    "    idx_probs.sort(key= lambda x: x[1], reverse=True)\n",
    "    if not idx_probs:\n",
    "        top = int(np.argmax(probs))\n",
    "        idx_probs = [(top, probs[top])]\n",
    "\n",
    "    intents_ranked = [{\n",
    "        \"intent\": le.inverse_transform([i])[0], \n",
    "        \"probablity\":float(p)\n",
    "    } for i, p in idx_probs[:top_k]]\n",
    "    return intents_ranked"
   ]
  },
  {
   "cell_type": "code",
   "execution_count": 16,
   "id": "35ec438e-8cc9-47ed-a580-5810ed0619fa",
   "metadata": {},
   "outputs": [],
   "source": [
    "def get_response(predicted, intents_json):\n",
    "    tag = predicted[0][\"intent\"]\n",
    "    for it in intents_json[\"intents\"]:\n",
    "        if it[\"tag\"] == tag:\n",
    "            return random.choice(it[\"responses\"])\n",
    "\n",
    "    return \"I'm not sure I understood that. Could you rephrase?\""
   ]
  },
  {
   "cell_type": "code",
   "execution_count": 26,
   "id": "bee5541e-99e4-4a97-96c6-33503e58921b",
   "metadata": {},
   "outputs": [
    {
     "name": "stdout",
     "output_type": "stream",
     "text": [
      "I suppose you have Head and neck cancer\n"
     ]
    }
   ],
   "source": [
    "user_text = \"persistent mouth ulcers\"\n",
    "pred = predict_class(user_text)\n",
    "resp = get_response(pred, intents)\n",
    "# print(pred)  # [{'intent': 'flu', 'probability': 0.93}, ...]\n",
    "print(resp)"
   ]
  },
  {
   "cell_type": "code",
   "execution_count": 27,
   "id": "09ea01b3-d3a8-41e8-80cb-f20f691202f5",
   "metadata": {},
   "outputs": [],
   "source": [
    "def calling_the_bot(txt):\n",
    "    global res\n",
    "    predict = predict_class(txt)\n",
    "    res = get_response(predict, intents)\n",
    "\n",
    "    engine.say(\"Found it. From our Database we found that\" + res)\n",
    "    # engine.say(res)\n",
    "    engine.runAndWait()\n",
    "    print(\"Your Symptom was  : \", text)\n",
    "    print(\"Result found in our Database : \", res)"
   ]
  },
  {
   "cell_type": "code",
   "execution_count": 23,
   "id": "f5568919-a08b-4c6a-a1d3-91909fffe245",
   "metadata": {},
   "outputs": [
    {
     "name": "stderr",
     "output_type": "stream",
     "text": [
      "WARNING: Retrying (Retry(total=4, connect=None, read=None, redirect=None, status=None)) after connection broken by 'NewConnectionError('<pip._vendor.urllib3.connection.HTTPSConnection object at 0x000001DA3918D880>: Failed to establish a new connection: [Errno 11001] getaddrinfo failed')': /simple/speech-recognition/\n",
      "WARNING: Retrying (Retry(total=3, connect=None, read=None, redirect=None, status=None)) after connection broken by 'NewConnectionError('<pip._vendor.urllib3.connection.HTTPSConnection object at 0x000001DA39332EA0>: Failed to establish a new connection: [Errno 11001] getaddrinfo failed')': /simple/speech-recognition/\n",
      "WARNING: Retrying (Retry(total=2, connect=None, read=None, redirect=None, status=None)) after connection broken by 'NewConnectionError('<pip._vendor.urllib3.connection.HTTPSConnection object at 0x000001DA393E3770>: Failed to establish a new connection: [Errno 11001] getaddrinfo failed')': /simple/speech-recognition/\n",
      "WARNING: Retrying (Retry(total=1, connect=None, read=None, redirect=None, status=None)) after connection broken by 'NewConnectionError('<pip._vendor.urllib3.connection.HTTPSConnection object at 0x000001DA39418620>: Failed to establish a new connection: [Errno 11001] getaddrinfo failed')': /simple/speech-recognition/\n",
      "WARNING: Retrying (Retry(total=0, connect=None, read=None, redirect=None, status=None)) after connection broken by 'NewConnectionError('<pip._vendor.urllib3.connection.HTTPSConnection object at 0x000001DA39418830>: Failed to establish a new connection: [Errno 11001] getaddrinfo failed')': /simple/speech-recognition/\n",
      "ERROR: Could not find a version that satisfies the requirement speech_recognition (from versions: none)\n",
      "ERROR: No matching distribution found for speech_recognition\n"
     ]
    }
   ],
   "source": [
    "!pip install speech_recognition"
   ]
  },
  {
   "cell_type": "code",
   "execution_count": 22,
   "id": "0829a915-6cf0-40a0-a984-80ce391ebee9",
   "metadata": {},
   "outputs": [
    {
     "ename": "ModuleNotFoundError",
     "evalue": "No module named 'speech_recognition'",
     "output_type": "error",
     "traceback": [
      "\u001b[1;31m---------------------------------------------------------------------------\u001b[0m",
      "\u001b[1;31mModuleNotFoundError\u001b[0m                       Traceback (most recent call last)",
      "Cell \u001b[1;32mIn[22], line 1\u001b[0m\n\u001b[1;32m----> 1\u001b[0m \u001b[38;5;28;01mimport\u001b[39;00m\u001b[38;5;250m \u001b[39m\u001b[38;5;21;01mspeech_recognition\u001b[39;00m\u001b[38;5;250m \u001b[39m\u001b[38;5;28;01mas\u001b[39;00m\u001b[38;5;250m \u001b[39m\u001b[38;5;21;01msr\u001b[39;00m\n\u001b[0;32m      2\u001b[0m \u001b[38;5;28;01mimport\u001b[39;00m\u001b[38;5;250m \u001b[39m\u001b[38;5;21;01mpyttsx3\u001b[39;00m\n\u001b[0;32m      3\u001b[0m \u001b[38;5;28;01mimport\u001b[39;00m\u001b[38;5;250m \u001b[39m\u001b[38;5;21;01mtime\u001b[39;00m\n",
      "\u001b[1;31mModuleNotFoundError\u001b[0m: No module named 'speech_recognition'"
     ]
    }
   ],
   "source": [
    "import speech_recognition as sr\n",
    "import pyttsx3\n",
    "import time"
   ]
  },
  {
   "cell_type": "code",
   "execution_count": 21,
   "id": "cd6cd4aa-f934-4c49-b319-4e8addb6b432",
   "metadata": {},
   "outputs": [
    {
     "name": "stdout",
     "output_type": "stream",
     "text": [
      "Bot is Running\n"
     ]
    },
    {
     "ename": "NameError",
     "evalue": "name 'sr' is not defined",
     "output_type": "error",
     "traceback": [
      "\u001b[1;31m---------------------------------------------------------------------------\u001b[0m",
      "\u001b[1;31mNameError\u001b[0m                                 Traceback (most recent call last)",
      "Cell \u001b[1;32mIn[21], line 4\u001b[0m\n\u001b[0;32m      1\u001b[0m \u001b[38;5;28;01mif\u001b[39;00m \u001b[38;5;18m__name__\u001b[39m \u001b[38;5;241m==\u001b[39m \u001b[38;5;124m'\u001b[39m\u001b[38;5;124m__main__\u001b[39m\u001b[38;5;124m'\u001b[39m:\n\u001b[0;32m      2\u001b[0m     \u001b[38;5;28mprint\u001b[39m(\u001b[38;5;124m\"\u001b[39m\u001b[38;5;124mBot is Running\u001b[39m\u001b[38;5;124m\"\u001b[39m)\n\u001b[1;32m----> 4\u001b[0m     recognizer \u001b[38;5;241m=\u001b[39m \u001b[43msr\u001b[49m\u001b[38;5;241m.\u001b[39mRecognizer()\n\u001b[0;32m      5\u001b[0m     mic \u001b[38;5;241m=\u001b[39m sr\u001b[38;5;241m.\u001b[39mMicrophone()\n\u001b[0;32m      7\u001b[0m     engine \u001b[38;5;241m=\u001b[39m pyttsx3\u001b[38;5;241m.\u001b[39minit()\n",
      "\u001b[1;31mNameError\u001b[0m: name 'sr' is not defined"
     ]
    }
   ],
   "source": [
    "if __name__ == '__main__':\n",
    "    print(\"Bot is Running\")\n",
    "\n",
    "    recognizer = sr.Recognizer()\n",
    "    mic = sr.Microphone()\n",
    "\n",
    "    engine = pyttsx3.init()\n",
    "    rate = engine.getProperty('rate')\n",
    "\n",
    "    # Increase the rate of the bot according to need,\n",
    "    # Faster the rate, faster it will speak, vice versa for slower.\n",
    "\n",
    "    engine.setProperty('rate', 175)\n",
    "\n",
    "    # Increase or decrease the bot's volume\n",
    "    volume = engine.getProperty('volume')\n",
    "    engine.setProperty('volume', 1.0)\n",
    "\n",
    "    voices = engine.getProperty('voices')\n",
    "\n",
    "    \"\"\"User Might Skip the following Part till the start of While Loop\"\"\"\n",
    "    engine.say(\n",
    "        \"Hello user, I am Bagley, your personal Talking Healthcare Chatbot.\")\n",
    "    engine.runAndWait()\n",
    "\n",
    "    engine.say(\n",
    "        \"IF YOU WANT TO CONTINUE WITH MALE VOICE PLEASE\\\n",
    "        SAY MALE. OTHERWISE SAY FEMALE.\")\n",
    "    engine.runAndWait()\n",
    "\n",
    "    # Asking for the MALE or FEMALE voice.\n",
    "    with mic as source:\n",
    "        recognizer.adjust_for_ambient_noise(source, duration=0.2)\n",
    "        audio = recognizer.listen(source)\n",
    "\n",
    "    audio = recognizer.recognize_google(audio)\n",
    "\n",
    "    # If the user says Female then the bot will speak in female voice.\n",
    "    if audio == \"Female\".lower():\n",
    "        engine.setProperty('voice', voices[1].id)\n",
    "        print(\"You have chosen to continue with Female Voice\")\n",
    "    else:\n",
    "        engine.setProperty('voice', voices[0].id)\n",
    "        print(\"You have chosen to continue with Male Voice\")\n",
    "\n",
    "    \"\"\"User might skip till HERE\"\"\"\n",
    "\n",
    "    while True or final.lower() == 'True':\n",
    "        with mic as symptom:\n",
    "            print(\"Say Your Symptoms. The Bot is Listening\")\n",
    "            engine.say(\"You may tell me your symptoms now. I am listening\")\n",
    "            engine.runAndWait()\n",
    "            try:\n",
    "                recognizer.adjust_for_ambient_noise(symptom, duration=0.2)\n",
    "                symp = recognizer.listen(symptom)\n",
    "                text = recognizer.recognize_google(symp)\n",
    "                engine.say(\"You said {}\".format(text))\n",
    "                engine.runAndWait()\n",
    "\n",
    "                engine.say(\n",
    "                    \"Scanning our database for your symptom. Please wait.\")\n",
    "                engine.runAndWait()\n",
    "\n",
    "                time.sleep(1)\n",
    "\n",
    "                # Calling the function by passing the voice inputted\n",
    "                # symptoms converted into string\n",
    "                calling_the_bot(text)\n",
    "            except sr.UnknownValueError:\n",
    "                engine.say(\n",
    "                    \"Sorry, Either your symptom is unclear to me or it is\\\n",
    "                    not present in our database. Please Try Again.\")\n",
    "                engine.runAndWait()\n",
    "                print(\n",
    "                    \"Sorry, Either your symptom is unclear to me or it is\\\n",
    "                    not present in our database. Please Try Again.\")\n",
    "            finally:\n",
    "                engine.say(\n",
    "                    \"If you want to continue please say True otherwise say\\\n",
    "                    False.\")\n",
    "                engine.runAndWait()\n",
    "\n",
    "        with mic as ans:\n",
    "            recognizer.adjust_for_ambient_noise(ans, duration=0.2)\n",
    "            voice = recognizer.listen(ans)\n",
    "            final = recognizer.recognize_google(voice)\n",
    "\n",
    "        if final.lower() == 'no' or final.lower() == 'please exit':\n",
    "            engine.say(\"Thank You. Shutting Down now.\")\n",
    "            engine.runAndWait()\n",
    "            print(\"Bot has been stopped by the user\")\n",
    "            exit(0)"
   ]
  },
  {
   "cell_type": "code",
   "execution_count": null,
   "id": "225060a1-d8d4-4f1a-9970-dc4b42c1ba24",
   "metadata": {},
   "outputs": [],
   "source": []
  }
 ],
 "metadata": {
  "kernelspec": {
   "display_name": "Python (tf_notebook)",
   "language": "python",
   "name": "tf_notebook"
  },
  "language_info": {
   "codemirror_mode": {
    "name": "ipython",
    "version": 3
   },
   "file_extension": ".py",
   "mimetype": "text/x-python",
   "name": "python",
   "nbconvert_exporter": "python",
   "pygments_lexer": "ipython3",
   "version": "3.10.18"
  }
 },
 "nbformat": 4,
 "nbformat_minor": 5
}
