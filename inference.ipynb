{
 "cells": [
  {
   "cell_type": "code",
   "execution_count": 1,
   "id": "5aa6e81f-8628-437a-bdbd-797e913848cc",
   "metadata": {},
   "outputs": [],
   "source": [
    "import json \n",
    "import numpy as np\n",
    "import joblib\n",
    "from tensorflow.keras.models import load_model\n",
    "import random \n",
    "import pandas as pd\n",
    "from text_utils import tokenize_and_lemma"
   ]
  },
  {
   "cell_type": "code",
   "execution_count": 2,
   "id": "1a912b2a-4422-4e47-9cd5-e38debd4d1b8",
   "metadata": {},
   "outputs": [],
   "source": [
    "model = load_model(\"chatbot_model.keras\")\n",
    "vectorizer = joblib.load(\"vectorizer.joblib\")\n",
    "le = joblib.load(\"label_encoder.joblib\")\n",
    "intents = json.loads(open(\"intents.json\").read())\n",
    "df = pd.DataFrame(intents['intents'])"
   ]
  },
  {
   "cell_type": "code",
   "execution_count": 3,
   "id": "584c56da-a372-475d-8b3e-7324725bcf05",
   "metadata": {},
   "outputs": [
    {
     "data": {
      "text/html": [
       "<div>\n",
       "<style scoped>\n",
       "    .dataframe tbody tr th:only-of-type {\n",
       "        vertical-align: middle;\n",
       "    }\n",
       "\n",
       "    .dataframe tbody tr th {\n",
       "        vertical-align: top;\n",
       "    }\n",
       "\n",
       "    .dataframe thead th {\n",
       "        text-align: right;\n",
       "    }\n",
       "</style>\n",
       "<table border=\"1\" class=\"dataframe\">\n",
       "  <thead>\n",
       "    <tr style=\"text-align: right;\">\n",
       "      <th></th>\n",
       "      <th>tag</th>\n",
       "      <th>patterns</th>\n",
       "      <th>responses</th>\n",
       "    </tr>\n",
       "  </thead>\n",
       "  <tbody>\n",
       "    <tr>\n",
       "      <th>0</th>\n",
       "      <td>greetings</td>\n",
       "      <td>[Hello, Hey, Hi, Good Day, Greetings]</td>\n",
       "      <td>[Hello!, Hey, What Can I do for you?]</td>\n",
       "    </tr>\n",
       "    <tr>\n",
       "      <th>1</th>\n",
       "      <td>Acne</td>\n",
       "      <td>[blackheads, pimples, face pimples, neck pimpl...</td>\n",
       "      <td>[According to your symptoms you might have Acn...</td>\n",
       "    </tr>\n",
       "    <tr>\n",
       "      <th>2</th>\n",
       "      <td>Attention Deficit Disorder (ADHD)</td>\n",
       "      <td>[impulsivity, hyperactivity, lack of focus, me...</td>\n",
       "      <td>[According to your symptoms you might have Att...</td>\n",
       "    </tr>\n",
       "    <tr>\n",
       "      <th>3</th>\n",
       "      <td>Allergies</td>\n",
       "      <td>[sneezing, itchy eyes, coughing, watery eyes, ...</td>\n",
       "      <td>[According to your symptoms you might have All...</td>\n",
       "    </tr>\n",
       "    <tr>\n",
       "      <th>4</th>\n",
       "      <td>Alzheimers</td>\n",
       "      <td>[forgetful, confusion with time, poor judgement]</td>\n",
       "      <td>[According to your symptoms you might have Alz...</td>\n",
       "    </tr>\n",
       "  </tbody>\n",
       "</table>\n",
       "</div>"
      ],
      "text/plain": [
       "                                 tag  \\\n",
       "0                          greetings   \n",
       "1                               Acne   \n",
       "2  Attention Deficit Disorder (ADHD)   \n",
       "3                          Allergies   \n",
       "4                         Alzheimers   \n",
       "\n",
       "                                            patterns  \\\n",
       "0              [Hello, Hey, Hi, Good Day, Greetings]   \n",
       "1  [blackheads, pimples, face pimples, neck pimpl...   \n",
       "2  [impulsivity, hyperactivity, lack of focus, me...   \n",
       "3  [sneezing, itchy eyes, coughing, watery eyes, ...   \n",
       "4   [forgetful, confusion with time, poor judgement]   \n",
       "\n",
       "                                           responses  \n",
       "0              [Hello!, Hey, What Can I do for you?]  \n",
       "1  [According to your symptoms you might have Acn...  \n",
       "2  [According to your symptoms you might have Att...  \n",
       "3  [According to your symptoms you might have All...  \n",
       "4  [According to your symptoms you might have Alz...  "
      ]
     },
     "execution_count": 3,
     "metadata": {},
     "output_type": "execute_result"
    }
   ],
   "source": [
    "df.head()"
   ]
  },
  {
   "cell_type": "code",
   "execution_count": 4,
   "id": "703355ef-49eb-4dda-a9e8-1ba61b03ab53",
   "metadata": {},
   "outputs": [],
   "source": [
    "def predict_class(text, error_threshold=0.25, top_k=3):\n",
    "    X = vectorizer.transform([text]).toarray()\n",
    "    probs = model.predict(X, verbose=0)[0]\n",
    "\n",
    "    idx_probs = [(i, p) for i, p in enumerate(probs) if p >= error_threshold]\n",
    "    idx_probs.sort(key= lambda x: x[1], reverse=True)\n",
    "    if not idx_probs:\n",
    "        top = int(np.argmax(probs))\n",
    "        idx_probs = [(top, probs[top])]\n",
    "\n",
    "    intents_ranked = [{\n",
    "        \"intent\": le.inverse_transform([i])[0], \n",
    "        \"probablity\":float(p)\n",
    "    } for i, p in idx_probs[:top_k]]\n",
    "    return intents_ranked"
   ]
  },
  {
   "cell_type": "code",
   "execution_count": 5,
   "id": "35ec438e-8cc9-47ed-a580-5810ed0619fa",
   "metadata": {},
   "outputs": [],
   "source": [
    "def get_response(predicted, intents_json):\n",
    "    tag = predicted[0][\"intent\"]\n",
    "    for it in intents_json[\"intents\"]:\n",
    "        if it[\"tag\"] == tag:\n",
    "            return random.choice(it[\"responses\"])\n",
    "\n",
    "    return \"I'm not sure I understood that. Could you rephrase?\""
   ]
  },
  {
   "cell_type": "code",
   "execution_count": 6,
   "id": "bee5541e-99e4-4a97-96c6-33503e58921b",
   "metadata": {},
   "outputs": [
    {
     "name": "stdout",
     "output_type": "stream",
     "text": [
      "You have Head and neck cancer\n"
     ]
    }
   ],
   "source": [
    "user_text = \"persistent mouth ulcers\"\n",
    "pred = predict_class(user_text)\n",
    "resp = get_response(pred, intents)\n",
    "# print(pred)  # [{'intent': 'flu', 'probability': 0.93}, ...]\n",
    "print(resp)"
   ]
  },
  {
   "cell_type": "code",
   "execution_count": 7,
   "id": "667bf819-acc5-4f60-a573-101fa2c3c61f",
   "metadata": {},
   "outputs": [
    {
     "name": "stdout",
     "output_type": "stream",
     "text": [
      "c:\\Users\\Ankit Regmi\\anaconda3\\envs\\tf_notebook\\python.exe\n"
     ]
    }
   ],
   "source": [
    "import sys\n",
    "print(sys.executable)"
   ]
  },
  {
   "cell_type": "code",
   "execution_count": 8,
   "id": "f5568919-a08b-4c6a-a1d3-91909fffe245",
   "metadata": {},
   "outputs": [
    {
     "name": "stdout",
     "output_type": "stream",
     "text": [
      "Requirement already satisfied: SpeechRecognition in c:\\users\\ankit regmi\\anaconda3\\envs\\tf_notebook\\lib\\site-packages (3.14.3)\n",
      "Requirement already satisfied: typing-extensions in c:\\users\\ankit regmi\\anaconda3\\envs\\tf_notebook\\lib\\site-packages (from SpeechRecognition) (4.14.1)\n"
     ]
    }
   ],
   "source": [
    "!\"{sys.executable}\" -m pip install SpeechRecognition"
   ]
  },
  {
   "cell_type": "code",
   "execution_count": 9,
   "id": "ba0257b4-5a08-43ef-a9db-acf0e84cd357",
   "metadata": {},
   "outputs": [
    {
     "name": "stdout",
     "output_type": "stream",
     "text": [
      "Requirement already satisfied: pyttsx3 in c:\\users\\ankit regmi\\anaconda3\\envs\\tf_notebook\\lib\\site-packages (2.99)\n",
      "Requirement already satisfied: comtypes in c:\\users\\ankit regmi\\anaconda3\\envs\\tf_notebook\\lib\\site-packages (from pyttsx3) (1.4.12)\n",
      "Requirement already satisfied: pypiwin32 in c:\\users\\ankit regmi\\anaconda3\\envs\\tf_notebook\\lib\\site-packages (from pyttsx3) (223)\n",
      "Requirement already satisfied: pywin32 in c:\\users\\ankit regmi\\anaconda3\\envs\\tf_notebook\\lib\\site-packages (from pyttsx3) (311)\n"
     ]
    }
   ],
   "source": [
    "!\"{sys.executable}\" -m pip install pyttsx3"
   ]
  },
  {
   "cell_type": "code",
   "execution_count": 10,
   "id": "0829a915-6cf0-40a0-a984-80ce391ebee9",
   "metadata": {},
   "outputs": [],
   "source": [
    "import speech_recognition as sr\n",
    "import pyttsx3\n",
    "import time"
   ]
  },
  {
   "cell_type": "code",
   "execution_count": 11,
   "id": "cd6cd4aa-f934-4c49-b319-4e8addb6b432",
   "metadata": {},
   "outputs": [],
   "source": [
    "# if __name__ == '__main__':\n",
    "#     print(\"Bot is Running\")\n",
    "\n",
    "#     recognizer = sr.Recognizer()\n",
    "#     mic = sr.Microphone()\n",
    "\n",
    "#     def say(text):\n",
    "#         # Re-init each time in notebooks to avoid “silent after first run”\n",
    "#         engine = pyttsx3.init('sapi5')   # explicit driver on Windows\n",
    "#         engine.setProperty('rate', 175)\n",
    "#         engine.setProperty('volume', 1.0)\n",
    "#         engine.say(text)\n",
    "#         engine.runAndWait()\n",
    "#         engine.stop()  # ensure driver releases\n",
    "#         del engine\n",
    "\n",
    "#     say(\"Hello user, I am Bagley, your personal Talking Healthcare Chatbot.\")\n",
    "\n",
    "#     with mic as symptom:\n",
    "#         print(\"Say Your Symptoms. The Bot is Listening\")\n",
    "#         say(\"You may tell me your symptoms now. I am listening\")\n",
    "#         try:\n",
    "#             recognizer.adjust_for_ambient_noise(symptom, duration=0.2)\n",
    "#             symp = recognizer.listen(symptom)\n",
    "#             text = recognizer.recognize_google(symp)\n",
    "#             say(\"You said {}\".format(text))\n",
    "#             say(\"Scanning our database for your symptom. Please wait.\")\n",
    "\n",
    "#             time.sleep(1)\n",
    "\n",
    "#             # Calling the function by passing the voice inputted\n",
    "#             # symptoms converted into string\n",
    "#             calling_the_bot(text)\n",
    "#         except sr.UnknownValueError:\n",
    "#             say(\n",
    "#                 \"Sorry, Either your symptom is unclear to me or it is\\\n",
    "#                 not present in our database. Please Try Again.\")\n",
    "#             print(\n",
    "#                 \"Sorry, Either your symptom is unclear to me or it is\\\n",
    "#                 not present in our database. Please Try Again.\")\n",
    "#         finally:\n",
    "#             say(\n",
    "#                 \"If you want to continue please say True otherwise say\\\n",
    "#                 False.\")\n",
    "#         with mic as ans:\n",
    "#             recognizer.adjust_for_ambient_noise(ans, duration=0.2)\n",
    "#             voice = recognizer.listen(ans)\n",
    "#             final = recognizer.recognize_google(voice)\n",
    "\n",
    "#         # with mic as ans:\n",
    "#         #     recognizer.adjust_for_ambient_noise(ans, duration=0.2)\n",
    "#         #     voice = recognizer.listen(ans)\n",
    "#         #     final = recognizer.recognize_google(voice)\n",
    "\n",
    "#         # if final.lower() == 'no' or final.lower() == 'please exit':\n",
    "#         #     say(\"Thank You. Shutting Down now.\")\n",
    "#         #     print(\"Bot has been stopped by the user\")\n",
    "#         #     exit(0)"
   ]
  },
  {
   "cell_type": "code",
   "execution_count": 13,
   "id": "26ca0d00",
   "metadata": {},
   "outputs": [
    {
     "name": "stdout",
     "output_type": "stream",
     "text": [
      "Bot is running\n",
      "done\n",
      "Say your symptoms. The Bot is listening\n"
     ]
    },
    {
     "ename": "WaitTimeoutError",
     "evalue": "listening timed out while waiting for phrase to start",
     "output_type": "error",
     "traceback": [
      "\u001b[1;31m---------------------------------------------------------------------------\u001b[0m",
      "\u001b[1;31mWaitTimeoutError\u001b[0m                          Traceback (most recent call last)",
      "Cell \u001b[1;32mIn[13], line 29\u001b[0m\n\u001b[0;32m     27\u001b[0m say(\u001b[38;5;124m\"\u001b[39m\u001b[38;5;124mYou may tell me your symptoms now. I am listening\u001b[39m\u001b[38;5;124m\"\u001b[39m)\n\u001b[0;32m     28\u001b[0m recognizer\u001b[38;5;241m.\u001b[39madjust_for_ambient_noise(symptom, duration\u001b[38;5;241m=\u001b[39m\u001b[38;5;241m0.4\u001b[39m)\n\u001b[1;32m---> 29\u001b[0m symp \u001b[38;5;241m=\u001b[39m \u001b[43mrecognizer\u001b[49m\u001b[38;5;241;43m.\u001b[39;49m\u001b[43mlisten\u001b[49m\u001b[43m(\u001b[49m\u001b[43msymptom\u001b[49m\u001b[43m,\u001b[49m\u001b[43m \u001b[49m\u001b[43mtimeout\u001b[49m\u001b[38;5;241;43m=\u001b[39;49m\u001b[38;5;241;43m3\u001b[39;49m\u001b[43m,\u001b[49m\u001b[43m \u001b[49m\u001b[43mphrase_time_limit\u001b[49m\u001b[38;5;241;43m=\u001b[39;49m\u001b[38;5;241;43m10\u001b[39;49m\u001b[43m)\u001b[49m\n\u001b[0;32m     30\u001b[0m text \u001b[38;5;241m=\u001b[39m recognizer\u001b[38;5;241m.\u001b[39mrecognize_google(symp)\n\u001b[0;32m     31\u001b[0m say(\u001b[38;5;124m\"\u001b[39m\u001b[38;5;124mYou said \u001b[39m\u001b[38;5;132;01m{}\u001b[39;00m\u001b[38;5;124m\"\u001b[39m\u001b[38;5;241m.\u001b[39mformat(text))\n",
      "File \u001b[1;32mc:\\Users\\Ankit Regmi\\anaconda3\\envs\\tf_notebook\\lib\\site-packages\\speech_recognition\\__init__.py:460\u001b[0m, in \u001b[0;36mRecognizer.listen\u001b[1;34m(self, source, timeout, phrase_time_limit, snowboy_configuration, stream)\u001b[0m\n\u001b[0;32m    458\u001b[0m result \u001b[38;5;241m=\u001b[39m \u001b[38;5;28mself\u001b[39m\u001b[38;5;241m.\u001b[39m_listen(source, timeout, phrase_time_limit, snowboy_configuration, stream)\n\u001b[0;32m    459\u001b[0m \u001b[38;5;28;01mif\u001b[39;00m \u001b[38;5;129;01mnot\u001b[39;00m stream:\n\u001b[1;32m--> 460\u001b[0m     \u001b[38;5;28;01mfor\u001b[39;00m a \u001b[38;5;129;01min\u001b[39;00m result:\n\u001b[0;32m    461\u001b[0m         \u001b[38;5;28;01mreturn\u001b[39;00m a\n\u001b[0;32m    462\u001b[0m \u001b[38;5;28;01mreturn\u001b[39;00m result\n",
      "File \u001b[1;32mc:\\Users\\Ankit Regmi\\anaconda3\\envs\\tf_notebook\\lib\\site-packages\\speech_recognition\\__init__.py:490\u001b[0m, in \u001b[0;36mRecognizer._listen\u001b[1;34m(self, source, timeout, phrase_time_limit, snowboy_configuration, stream)\u001b[0m\n\u001b[0;32m    488\u001b[0m elapsed_time \u001b[38;5;241m+\u001b[39m\u001b[38;5;241m=\u001b[39m seconds_per_buffer\n\u001b[0;32m    489\u001b[0m \u001b[38;5;28;01mif\u001b[39;00m timeout \u001b[38;5;129;01mand\u001b[39;00m elapsed_time \u001b[38;5;241m>\u001b[39m timeout:\n\u001b[1;32m--> 490\u001b[0m     \u001b[38;5;28;01mraise\u001b[39;00m WaitTimeoutError(\u001b[38;5;124m\"\u001b[39m\u001b[38;5;124mlistening timed out while waiting for phrase to start\u001b[39m\u001b[38;5;124m\"\u001b[39m)\n\u001b[0;32m    492\u001b[0m buffer \u001b[38;5;241m=\u001b[39m source\u001b[38;5;241m.\u001b[39mstream\u001b[38;5;241m.\u001b[39mread(source\u001b[38;5;241m.\u001b[39mCHUNK)\n\u001b[0;32m    493\u001b[0m \u001b[38;5;28;01mif\u001b[39;00m \u001b[38;5;28mlen\u001b[39m(buffer) \u001b[38;5;241m==\u001b[39m \u001b[38;5;241m0\u001b[39m: \u001b[38;5;28;01mbreak\u001b[39;00m  \u001b[38;5;66;03m# reached end of the stream\u001b[39;00m\n",
      "\u001b[1;31mWaitTimeoutError\u001b[0m: listening timed out while waiting for phrase to start"
     ]
    }
   ],
   "source": [
    "print(\"Bot is running\")\n",
    "recognizer = sr.Recognizer()\n",
    "def say(text):\n",
    "    engine = pyttsx3.init('sapi5')\n",
    "    engine.setProperty('rate', 175)\n",
    "    engine.setProperty('volume', 1.0)\n",
    "    engine.say(text)\n",
    "    engine.runAndWait()\n",
    "    engine.stop()  # ensure driver releases\n",
    "    del engine\n",
    "\n",
    "def calling_the_bot(txt):\n",
    "    global res\n",
    "    predict = predict_class(txt)\n",
    "    res = get_response(predict, intents)\n",
    "\n",
    "    say(\"Found it. From our Database we found that\" + res)\n",
    "    # engine.say(res)\n",
    "    # engine.runAndWait()\n",
    "    print(\"Your Symptom was  : \", txt)\n",
    "    print(\"Result found in our Database : \", res)\n",
    "\n",
    "say(\"Hello user, I am Bagley, your personal Talking Healthcare Chatbot.\")\n",
    "print(\"done\")\n",
    "with sr.Microphone() as symptom:\n",
    "    print(\"Say your symptoms. The Bot is listening\")\n",
    "    say(\"You may tell me your symptoms now. I am listening\")\n",
    "    recognizer.adjust_for_ambient_noise(symptom, duration=0.4)\n",
    "    symp = recognizer.listen(symptom, timeout=3, phrase_time_limit=10)\n",
    "    text = recognizer.recognize_google(symp)\n",
    "    say(\"You said {}\".format(text))\n",
    "    say(\"Scanning our database for your symptom. Please wait.\")\n",
    "\n",
    "    time.sleep(1)\n",
    "\n",
    "    calling_the_bot(text)\n"
   ]
  },
  {
   "cell_type": "code",
   "execution_count": null,
   "id": "38b3b59c",
   "metadata": {},
   "outputs": [],
   "source": []
  }
 ],
 "metadata": {
  "kernelspec": {
   "display_name": "Python (tf_notebook)",
   "language": "python",
   "name": "tf_notebook"
  },
  "language_info": {
   "codemirror_mode": {
    "name": "ipython",
    "version": 3
   },
   "file_extension": ".py",
   "mimetype": "text/x-python",
   "name": "python",
   "nbconvert_exporter": "python",
   "pygments_lexer": "ipython3",
   "version": "3.10.18"
  }
 },
 "nbformat": 4,
 "nbformat_minor": 5
}
